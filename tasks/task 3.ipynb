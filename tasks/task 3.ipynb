{
 "cells": [
  {
   "cell_type": "markdown",
   "id": "b9701352",
   "metadata": {},
   "source": [
    "q1 : \\\n",
    "ineruon \\\n",
    "ineruon ineruon \\ \n",
    "ineruon ineruon ineruon \\\n",
    "ineruon ineruon ineruon ineruon"
   ]
  },
  {
   "cell_type": "code",
   "execution_count": 2,
   "id": "74b7d2af",
   "metadata": {
    "scrolled": true
   },
   "outputs": [
    {
     "name": "stdout",
     "output_type": "stream",
     "text": [
      "ineuron \n",
      "ineuron ineuron \n",
      "ineuron ineuron ineuron \n",
      "ineuron ineuron ineuron ineuron \n"
     ]
    }
   ],
   "source": [
    "for i in range(4) :\n",
    "    for j in range (0 , i+1) :\n",
    "        print(\"ineuron\" , end = \" \")\n",
    "    print()"
   ]
  },
  {
   "cell_type": "code",
   "execution_count": 35,
   "id": "95afaec9",
   "metadata": {},
   "outputs": [
    {
     "name": "stdout",
     "output_type": "stream",
     "text": [
      "      ineuron \n",
      "    ineuron ineuron \n",
      "ineuron ineuron ineuron \n",
      "  ineuron ineuron \n",
      "    ineuron \n"
     ]
    }
   ],
   "source": [
    "n=3\n",
    "for i in range(n-1):\n",
    "    for j in range(i,n):\n",
    "        print(\" \",end=\" \")\n",
    "    for j in range(i-1):\n",
    "        print(\"ineuron\",end=\" \")\n",
    "    for j in range(i+1):\n",
    "        print(\"ineuron\",end=\" \")\n",
    "    print()\n",
    "for i in range(n):    \n",
    "    for j in range(i):\n",
    "        print(\" \",end=\" \")\n",
    "    for j in range(i,n-3):\n",
    "        print(\"ineuron\",end=\" \")\n",
    "    for j in range(i,n):\n",
    "        print(\"ineuron\",end=\" \")\n",
    "    print()"
   ]
  },
  {
   "cell_type": "code",
   "execution_count": 7,
   "id": "483443a8",
   "metadata": {},
   "outputs": [],
   "source": [
    "l = [[1,2,3,4] , (2,3,4,5,6) , (3,4,5,6,7) , set([23,4,5,45,4,4,5,45,45,4,5]) , {'k1' :\"sudh\" , \"k2\" : \"ineuron\",\"k3\":\n",
    "            \"kumar\" , 3:6 , 7:8} , [\"ineuron\" , \"data science \"]]"
   ]
  },
  {
   "cell_type": "code",
   "execution_count": 13,
   "id": "105a75b9",
   "metadata": {},
   "outputs": [
    {
     "name": "stdout",
     "output_type": "stream",
     "text": [
      "[1, 2, 3, 4]\n",
      "['ineuron', 'data science ']\n"
     ]
    }
   ],
   "source": [
    "for i in l:\n",
    "    if type(i) == list:\n",
    "        print(i)"
   ]
  },
  {
   "cell_type": "code",
   "execution_count": 14,
   "id": "eb8186b0",
   "metadata": {},
   "outputs": [
    {
     "name": "stdout",
     "output_type": "stream",
     "text": [
      "{'k1': 'sudh', 'k2': 'ineuron', 'k3': 'kumar', 3: 6, 7: 8}\n"
     ]
    }
   ],
   "source": [
    "for i in l:\n",
    "    if type(i) == dict:\n",
    "        print(i)"
   ]
  },
  {
   "cell_type": "code",
   "execution_count": 15,
   "id": "30f2dae8",
   "metadata": {},
   "outputs": [
    {
     "name": "stdout",
     "output_type": "stream",
     "text": [
      "(2, 3, 4, 5, 6)\n",
      "(3, 4, 5, 6, 7)\n"
     ]
    }
   ],
   "source": [
    "for i in l:\n",
    "    if type(i) == tuple:\n",
    "        print(i)"
   ]
  },
  {
   "cell_type": "code",
   "execution_count": 38,
   "id": "4bf1c657",
   "metadata": {},
   "outputs": [
    {
     "name": "stdout",
     "output_type": "stream",
     "text": [
      "(2, 3, 4, 5, 6)\n",
      "(3, 4, 5, 6, 7)\n",
      "{'k1': 'sudh', 'k2': 'ineuron', 'k3': 'kumar', 3: 6, 7: 8}\n"
     ]
    }
   ],
   "source": [
    "for i in l:\n",
    "    if type(i) == tuple or type(i) == dict:\n",
    "        print(i)"
   ]
  },
  {
   "cell_type": "code",
   "execution_count": 46,
   "id": "931561e0",
   "metadata": {},
   "outputs": [
    {
     "name": "stdout",
     "output_type": "stream",
     "text": [
      "dict_items([('k1', 'sudh'), ('k2', 'ineuron'), ('k3', 'kumar'), (3, 6), (7, 8)])\n",
      "3\n",
      "6\n",
      "7\n",
      "8\n"
     ]
    }
   ],
   "source": [
    "for i in l:\n",
    "    if type(i) == dict:\n",
    "        print(i.items())\n",
    "        for key,val in i.items():\n",
    "            if(type(key) == int):\n",
    "                print(key)\n",
    "            if type(val) == int:\n",
    "                print(val)"
   ]
  },
  {
   "cell_type": "code",
   "execution_count": 47,
   "id": "0e642cd4",
   "metadata": {},
   "outputs": [
    {
     "name": "stdout",
     "output_type": "stream",
     "text": [
      "156\n"
     ]
    }
   ],
   "source": [
    "count =0\n",
    "for i in l:\n",
    "    if(type(i) == tuple or type(i) == list or type(i) == set):\n",
    "        for j in i:\n",
    "            if(type(j) == int):\n",
    "                count += j\n",
    "    if(type(i) == dict):\n",
    "        for key,val in i.items():\n",
    "            if(type(key) == int):\n",
    "                count += key\n",
    "            if type(val) == int:\n",
    "                count += val\n",
    "print(count)"
   ]
  },
  {
   "cell_type": "code",
   "execution_count": 48,
   "id": "072f57f7",
   "metadata": {},
   "outputs": [
    {
     "name": "stdout",
     "output_type": "stream",
     "text": [
      "1\n",
      "3\n",
      "3\n",
      "5\n",
      "3\n",
      "5\n",
      "7\n",
      "45\n",
      "5\n",
      "23\n",
      "3\n",
      "7\n"
     ]
    }
   ],
   "source": [
    "for i in l:\n",
    "    if(type(i) == tuple or type(i) == list or type(i) == set):\n",
    "        for j in i:\n",
    "            if(type(j) == int and j%2 != 0):\n",
    "                print(j)\n",
    "    if(type(i) == dict):\n",
    "        for key,val in i.items():\n",
    "            if(type(key) == int and key%2 != 0):\n",
    "                print(key)\n",
    "            if (type(val) == int and val%2 != 0):\n",
    "                print(val)"
   ]
  },
  {
   "cell_type": "code",
   "execution_count": 49,
   "id": "1d7e288d",
   "metadata": {},
   "outputs": [
    {
     "name": "stdout",
     "output_type": "stream",
     "text": [
      "ineuron\n",
      "ineuron\n"
     ]
    }
   ],
   "source": [
    "for i in l:\n",
    "    if(type(i) == tuple or type(i) == list or type(i) == set):\n",
    "        for j in i:\n",
    "            if(type(j) == str and j == \"ineuron\"):\n",
    "                print(j)\n",
    "    if(type(i) == dict):\n",
    "        for key,val in i.items():\n",
    "            if(type(key) == str and key == \"ineuron\"):\n",
    "                print(key)\n",
    "            if type(val) == str and val == \"ineuron\":\n",
    "                print(val)"
   ]
  },
  {
   "cell_type": "code",
   "execution_count": 50,
   "id": "6b133357",
   "metadata": {},
   "outputs": [
    {
     "name": "stdout",
     "output_type": "stream",
     "text": [
      "{1, 2, 3, 4, 5, 6, 7, 'ineuron', 'k3', 8, 45, 'data science ', 'sudh', 'kumar', 23, 'k2', 'k1'}\n",
      "{1: 1, 2: 2, 3: 4, 4: 4, 5: 3, 6: 3, 7: 2, 'ineuron': 2, 'k3': 1, 8: 1, 45: 1, 'data science ': 1, 'sudh': 1, 'kumar': 1, 23: 1, 'k2': 1, 'k1': 1}\n"
     ]
    }
   ],
   "source": [
    "x = set()\n",
    "for i in l:\n",
    "    if(type(i) == tuple or type(i) == list or type(i) == set):\n",
    "        for j in i:\n",
    "            x.add(j)\n",
    "    if(type(i) == dict):\n",
    "        for key,val in i.items():\n",
    "            x.add(key)\n",
    "            x.add(val)\n",
    "print(x)\n",
    "d = {}\n",
    "for i in x:\n",
    "    d[i] = 0\n",
    "for i in l:\n",
    "    if(type(i) == tuple or type(i) == list or type(i) == set):\n",
    "        for j in i:\n",
    "            d[j] = d[j]+1\n",
    "    if(type(i) == dict):\n",
    "        for key,val in i.items():\n",
    "            d[key] = d[key]+1\n",
    "            d[val] = d[val]+1\n",
    "print(d)"
   ]
  },
  {
   "cell_type": "code",
   "execution_count": 51,
   "id": "90d6f9bc",
   "metadata": {},
   "outputs": [
    {
     "name": "stdout",
     "output_type": "stream",
     "text": [
      "5\n"
     ]
    }
   ],
   "source": [
    "keys =0\n",
    "for i in l:\n",
    "    if(type(i) == dict):\n",
    "        for key,val in i.items():\n",
    "            keys = keys+1\n",
    "print(keys)"
   ]
  },
  {
   "cell_type": "code",
   "execution_count": 52,
   "id": "1a4f8278",
   "metadata": {},
   "outputs": [
    {
     "name": "stdout",
     "output_type": "stream",
     "text": [
      "k1\n",
      "sudh\n",
      "k2\n",
      "ineuron\n",
      "k3\n",
      "kumar\n",
      "ineuron\n",
      "data science \n"
     ]
    }
   ],
   "source": [
    "for i in l:\n",
    "    if(type(i) == tuple or type(i) == list or type(i) == set):\n",
    "        for j in i:\n",
    "            if(type(j) == str):\n",
    "                print(j)\n",
    "    if(type(i) == dict):\n",
    "        for key,val in i.items():\n",
    "            if(type(key) == str):\n",
    "                print(key)\n",
    "            if type(val) == str:\n",
    "                print(val)"
   ]
  },
  {
   "cell_type": "code",
   "execution_count": 53,
   "id": "5476bcf8",
   "metadata": {},
   "outputs": [
    {
     "name": "stdout",
     "output_type": "stream",
     "text": [
      "k1\n",
      "sudh\n",
      "k2\n",
      "ineuron\n",
      "k3\n",
      "kumar\n",
      "ineuron\n"
     ]
    }
   ],
   "source": [
    "for i in l:\n",
    "    if(type(i) == tuple or type(i) == list or type(i) == set):\n",
    "        for j in i:\n",
    "            if(type(j) == str and j.isalnum()):\n",
    "                print(j)\n",
    "    if(type(i) == dict):\n",
    "        for key,val in i.items():\n",
    "            if(type(key) == str and key.isalnum()):\n",
    "                print(key)\n",
    "            if type(val) == str and val.isalnum():\n",
    "                print(val)"
   ]
  },
  {
   "cell_type": "code",
   "execution_count": 54,
   "id": "9d29f978",
   "metadata": {},
   "outputs": [
    {
     "name": "stdout",
     "output_type": "stream",
     "text": [
      "24\n",
      "720\n",
      "2520\n",
      "20700\n",
      "48\n",
      "1\n"
     ]
    }
   ],
   "source": [
    "\n",
    "for i in l:\n",
    "    if(type(i) == tuple or type(i) == list or type(i) == set):\n",
    "        mul = 1\n",
    "        for j in i:\n",
    "            if(type(j) == int):\n",
    "                mul = mul * j\n",
    "        print(mul)\n",
    "    if(type(i) == dict):\n",
    "        mul = 1\n",
    "        for key,val in i.items():\n",
    "            if type(val)==int:\n",
    "                mul = mul*val\n",
    "        print(mul)"
   ]
  },
  {
   "cell_type": "code",
   "execution_count": 55,
   "id": "ce3e212c",
   "metadata": {},
   "outputs": [
    {
     "name": "stdout",
     "output_type": "stream",
     "text": [
      "[1, 2, 3, 4, 2, 3, 4, 5, 6, 3, 4, 5, 6, 7, 45, 4, 5, 23, 'k1', 'sudh', 'k2', 'ineuron', 'k3', 'kumar', 3, 6, 7, 8, 'ineuron', 'data science ']\n",
      "[[1, 2, 3, 4], (2, 3, 4, 5, 6), (3, 4, 5, 6, 7), {45, 4, 5, 23}, {'k1': 'sudh', 'k2': 'ineuron', 'k3': 'kumar', 3: 6, 7: 8}, ['ineuron', 'data science ']]\n"
     ]
    }
   ],
   "source": [
    "newList = []\n",
    "for i in l:\n",
    "    if(type(i) == tuple or type(i) == list or type(i) == set):\n",
    "        for j in i:\n",
    "            newList.append(j)\n",
    "    if(type(i) == dict):\n",
    "        for key,val in i.items():\n",
    "            newList.append(key)\n",
    "            newList.append(val)\n",
    "print(newList)\n",
    "print(l)"
   ]
  },
  {
   "cell_type": "code",
   "execution_count": 56,
   "id": "38db6973",
   "metadata": {},
   "outputs": [
    {
     "name": "stdout",
     "output_type": "stream",
     "text": [
      "[1, 2, 3, 4, 2, 3, 4, 5, 6, 3, 4, 5, 6, 7, 45, 4, 5, 23, 'k1', 'sudh', 'k2', 'ineuron', 'k3', 'kumar', 3, 6, 7, 8, 'ineuron', 'data science ']\n",
      "[[1, 2, 3, 4], (2, 3, 4, 5, 6), (3, 4, 5, 6, 7), {45, 4, 5, 23}, {'k1': 'sudh', 'k2': 'ineuron', 'k3': 'kumar', 3: 6, 7: 8}, ['ineuron', 'data science ']]\n"
     ]
    }
   ],
   "source": [
    "#can also be done like this\n",
    "newList1 = []\n",
    "for i in l:\n",
    "    if(type(i) == tuple or type(i) == list or type(i) == set):\n",
    "        newList1.extend(i)\n",
    "    if(type(i) == dict):\n",
    "        for key,val in i.items():\n",
    "            newList1.append(key)\n",
    "            newList1.append(val)\n",
    "print(newList1)\n",
    "print(l)"
   ]
  }
 ],
 "metadata": {
  "kernelspec": {
   "display_name": "Python 3 (ipykernel)",
   "language": "python",
   "name": "python3"
  },
  "language_info": {
   "codemirror_mode": {
    "name": "ipython",
    "version": 3
   },
   "file_extension": ".py",
   "mimetype": "text/x-python",
   "name": "python",
   "nbconvert_exporter": "python",
   "pygments_lexer": "ipython3",
   "version": "3.9.7"
  }
 },
 "nbformat": 4,
 "nbformat_minor": 5
}
