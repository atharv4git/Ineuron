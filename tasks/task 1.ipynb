{
 "cells": [
  {
   "cell_type": "markdown",
   "id": "2c2774b7",
   "metadata": {},
   "source": [
    "# Task 1\n",
    "### Atharv Kulkarni\n",
    "##### Full stack data science - ineuron"
   ]
  },
  {
   "cell_type": "code",
   "execution_count": 2,
   "id": "d2710e53",
   "metadata": {},
   "outputs": [],
   "source": [
    "s = \"this is My First Python programming class and i am learNING python string and its function\""
   ]
  },
  {
   "cell_type": "markdown",
   "id": "870284d9",
   "metadata": {},
   "source": [
    "#### Try to extract data from index one to index 300 with a jump of 3"
   ]
  },
  {
   "cell_type": "code",
   "execution_count": 3,
   "id": "36a8969f",
   "metadata": {},
   "outputs": [
    {
     "data": {
      "text/plain": [
       "'h   r tnrrmglsnimeNGyosi dtfco'"
      ]
     },
     "execution_count": 3,
     "metadata": {},
     "output_type": "execute_result"
    }
   ],
   "source": [
    "s[1:300:3]"
   ]
  },
  {
   "cell_type": "markdown",
   "id": "5e79ff7b",
   "metadata": {},
   "source": [
    "#### Try to reverse a string without using reverse function"
   ]
  },
  {
   "cell_type": "code",
   "execution_count": 11,
   "id": "0532a789",
   "metadata": {},
   "outputs": [
    {
     "data": {
      "text/plain": [
       "'noitcnuf sti dna gnirts nohtyp GNINrael ma i dna ssalc gnimmargorp nohtyP tsriF yM si siht'"
      ]
     },
     "execution_count": 11,
     "metadata": {},
     "output_type": "execute_result"
    }
   ],
   "source": [
    "s[-1:-91:-1]"
   ]
  },
  {
   "cell_type": "markdown",
   "id": "3fa3770b",
   "metadata": {},
   "source": [
    "#### Try to split a string after conversion of entire string in uppercase"
   ]
  },
  {
   "cell_type": "code",
   "execution_count": 13,
   "id": "c8e01536",
   "metadata": {},
   "outputs": [
    {
     "data": {
      "text/plain": [
       "['THIS',\n",
       " 'IS',\n",
       " 'MY',\n",
       " 'FIRST',\n",
       " 'PYTHON',\n",
       " 'PROGRAMMING',\n",
       " 'CLASS',\n",
       " 'AND',\n",
       " 'I',\n",
       " 'AM',\n",
       " 'LEARNING',\n",
       " 'PYTHON',\n",
       " 'STRING',\n",
       " 'AND',\n",
       " 'ITS',\n",
       " 'FUNCTION']"
      ]
     },
     "execution_count": 13,
     "metadata": {},
     "output_type": "execute_result"
    }
   ],
   "source": [
    "s_upper = s.upper()\n",
    "s_upper.split(\" \")"
   ]
  },
  {
   "cell_type": "markdown",
   "id": "0b4e5af5",
   "metadata": {},
   "source": [
    "#### try to convert the whole string into lower case"
   ]
  },
  {
   "cell_type": "code",
   "execution_count": 17,
   "id": "0cb9afe1",
   "metadata": {},
   "outputs": [
    {
     "name": "stdout",
     "output_type": "stream",
     "text": [
      "Normal--- this is My First Python programming class and i am learNING python string and its function\n",
      "Lower--- this is my first python programming class and i am learning python string and its function\n"
     ]
    }
   ],
   "source": [
    "s_lower = s.lower()\n",
    "print(\"Normal---\",s)\n",
    "print(\"Lower---\",s_lower)"
   ]
  },
  {
   "cell_type": "markdown",
   "id": "218b777c",
   "metadata": {},
   "source": [
    "#### Try to capitalize the whole string"
   ]
  },
  {
   "cell_type": "code",
   "execution_count": 18,
   "id": "74cce9f0",
   "metadata": {},
   "outputs": [
    {
     "data": {
      "text/plain": [
       "'This is my first python programming class and i am learning python string and its function'"
      ]
     },
     "execution_count": 18,
     "metadata": {},
     "output_type": "execute_result"
    }
   ],
   "source": [
    "s_cap = s.capitalize()\n",
    "s_cap"
   ]
  },
  {
   "cell_type": "markdown",
   "id": "81e351af",
   "metadata": {},
   "source": [
    "#### Write a diference between isalnum() and isalpha()\n",
    "\n",
    "isalpha sees if the string contians alphabets or not , it does not considers numerics in the string\n",
    "isalnum sees if the string contains alphabets OR numericals."
   ]
  },
  {
   "cell_type": "code",
   "execution_count": 24,
   "id": "0499f785",
   "metadata": {},
   "outputs": [
    {
     "name": "stdout",
     "output_type": "stream",
     "text": [
      "'1234'.isalnum() True\n",
      "'1234abcd'.isalnum() True\n",
      "'abcd'.isalnum() True\n",
      "'1234'.isaplha() False\n",
      "'1234abcd'.isalpha() False\n",
      "'abcd'.isalpha() True\n"
     ]
    }
   ],
   "source": [
    "print(\"'1234'.isalnum()\",\"1234\".isalnum())\n",
    "print(\"'1234abcd'.isalnum()\",\"1234abcd\".isalnum())\n",
    "print(\"'abcd'.isalnum()\",\"abcd\".isalnum())\n",
    "print(\"'1234'.isaplha()\",\"1234\".isalpha())\n",
    "print(\"'1234abcd'.isalpha()\",\"1234abcd\".isalpha())\n",
    "print(\"'abcd'.isalpha()\",\"abcd\".isalpha())"
   ]
  },
  {
   "cell_type": "markdown",
   "id": "8cc37be1",
   "metadata": {},
   "source": [
    "#### Try to give an example of expand tab"
   ]
  },
  {
   "cell_type": "code",
   "execution_count": 48,
   "id": "c8ccd55b",
   "metadata": {},
   "outputs": [
    {
     "data": {
      "text/plain": [
       "'this    is      a       use     case    of      expand  tabs'"
      ]
     },
     "execution_count": 48,
     "metadata": {},
     "output_type": "execute_result"
    }
   ],
   "source": [
    "s0 = \"this\\tis\\ta\\tuse\\tcase\\tof\\texpand\\ttabs\"\n",
    "s0.expandtabs()"
   ]
  },
  {
   "cell_type": "markdown",
   "id": "bc8aa96f",
   "metadata": {},
   "source": [
    "#### Give an example of strip , lstrip and rstrip"
   ]
  },
  {
   "cell_type": "code",
   "execution_count": 30,
   "id": "f140b4c0",
   "metadata": {},
   "outputs": [
    {
     "name": "stdout",
     "output_type": "stream",
     "text": [
      "original > |    hello world    |\n",
      "strip > |hello world|\n",
      "lstrip > |hello world    |\n",
      "rstrip > |    hello world|\n"
     ]
    }
   ],
   "source": [
    "some_string = \"    hello world    \"\n",
    "print(\"original >\",\"|\"+some_string+\"|\")\n",
    "print(\"strip >\",\"|\"+some_string.strip()+\"|\")\n",
    "print(\"lstrip >\",\"|\"+some_string.lstrip()+\"|\")\n",
    "print(\"rstrip >\",\"|\"+some_string.rstrip()+\"|\")"
   ]
  },
  {
   "cell_type": "markdown",
   "id": "b020a9c5",
   "metadata": {},
   "source": [
    "#### Replace a string charecter by another charector by taking your own example \"sudhanshu\""
   ]
  },
  {
   "cell_type": "code",
   "execution_count": 36,
   "id": "7dca86ab",
   "metadata": {},
   "outputs": [
    {
     "name": "stdout",
     "output_type": "stream",
     "text": [
      "orignal   >   atharv is nice guy\n",
      "after replacing > atharv is amazing guy\n"
     ]
    }
   ],
   "source": [
    "s1 = \"atharv is nice guy\"\n",
    "print(\"orignal   >  \",s1)\n",
    "print(\"after replacing >\",s1.replace(\"nice\",\"amazing\"))"
   ]
  },
  {
   "cell_type": "markdown",
   "id": "cebd4424",
   "metadata": {},
   "source": [
    "#### Try to give a defination of string center function with and example\n",
    "center() function will center the given string in the given no. in the argument,  example:\n",
    "   * \"hello\" is 4 characters long , so if we enter \"hello\".center(8) we will get output -> \"  hello  \"\n",
    "   * \"hi\" is 2 characters long , if we enter \"hi\".center(4,'#')\n",
    "    (here the second argument denotes the character we want to fill in the gap with , by default its space character) the output will be -> \"#hi#\""
   ]
  },
  {
   "cell_type": "code",
   "execution_count": 43,
   "id": "c772f533",
   "metadata": {},
   "outputs": [
    {
     "name": "stdout",
     "output_type": "stream",
     "text": [
      "original > hie\n",
      "after center(20) >         hie         \n",
      "after center(10,'#') > ###hie####\n"
     ]
    }
   ],
   "source": [
    "s2 = \"hie\"\n",
    "print(\"original >\",s2)\n",
    "print(\"after center(20) >\",s2.center(20))\n",
    "print(\"after center(10,'#') >\",s2.center(10,\"#\"))"
   ]
  },
  {
   "cell_type": "markdown",
   "id": "98b6a846",
   "metadata": {},
   "source": [
    "#### Write your own definition of compiler and interpretor without copy paste form internet in your own language"
   ]
  },
  {
   "cell_type": "markdown",
   "id": "5fc9c0cf",
   "metadata": {},
   "source": [
    "compiler takes the whole source code and compiles it into binaries. It takes more time to compile than interpret. \\\n",
    "Interpreter interprets the source code line by line so its faster than compiler."
   ]
  },
  {
   "cell_type": "markdown",
   "id": "9b2a0ae1",
   "metadata": {},
   "source": [
    "#### Python is a interpreted of compiled language give a clear ans with your understanding"
   ]
  },
  {
   "cell_type": "markdown",
   "id": "f86d0b58",
   "metadata": {},
   "source": [
    "python is an tnterpreted language because it does not compile the whole source code. It may take a lot of time to do certain heavy tasks but generally its faster than various languages because it does not have to compile the whole source code...and also we can run it in an instance in command prompt which is not possible in other languages like c,c++,java etc."
   ]
  },
  {
   "cell_type": "markdown",
   "id": "5c1ce8c5",
   "metadata": {},
   "source": [
    "#### Try to write a usecase of python with your understanding .\n",
    "\n",
    "1. in data science - python can be used in data analytics.\n",
    "2. in machine learning - python can be used to implement many ML algorithms\n",
    "3. in day-to-day life - python is very easy to learn and use language so it can be used by huge range of people\n",
    "4. in IOT - python can sometimes used in IOT projects\n",
    "5. python can be used in client side sql input from web\n",
    "6. Automation\n",
    "7. python can be used in almost everything..."
   ]
  }
 ],
 "metadata": {
  "kernelspec": {
   "display_name": "Python 3 (ipykernel)",
   "language": "python",
   "name": "python3"
  },
  "language_info": {
   "codemirror_mode": {
    "name": "ipython",
    "version": 3
   },
   "file_extension": ".py",
   "mimetype": "text/x-python",
   "name": "python",
   "nbconvert_exporter": "python",
   "pygments_lexer": "ipython3",
   "version": "3.9.7"
  }
 },
 "nbformat": 4,
 "nbformat_minor": 5
}
